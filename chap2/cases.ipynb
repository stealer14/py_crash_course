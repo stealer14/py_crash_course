{
 "cells": [
  {
   "cell_type": "code",
   "execution_count": 2,
   "metadata": {},
   "outputs": [
    {
     "name": "stdout",
     "output_type": "stream",
     "text": [
      "Hello Nestor, would you like to learn some Python today?\n"
     ]
    }
   ],
   "source": [
    "#Case 2-3\n",
    "name = input('Enter name: ')\n",
    "print(f'Hello {name.title()}, would you like to learn some Python today?')\n"
   ]
  },
  {
   "cell_type": "code",
   "execution_count": 2,
   "metadata": {},
   "outputs": [
    {
     "name": "stdout",
     "output_type": "stream",
     "text": [
      "Hello nestor\n",
      "Hello NESTOR\n",
      "Hello nestor\n",
      "Hello Nestor\n"
     ]
    }
   ],
   "source": [
    "#Print name in several types of cases\n",
    "name = input('Enter name: ') \n",
    "print(f\"Hello {name}\")\n",
    "print(f\"Hello {name.upper()}\")\n",
    "print(f\"Hello {name.lower()}\")\n",
    "print(f\"Hello {name.title()}\")"
   ]
  },
  {
   "cell_type": "code",
   "execution_count": 3,
   "metadata": {},
   "outputs": [
    {
     "name": "stdout",
     "output_type": "stream",
     "text": [
      "Albert Einstein once said, \"A person who never made a mistake never tried anything new.\"\n"
     ]
    }
   ],
   "source": [
    "#Print message in quotes\n",
    "famous_person = 'Albert Einstein once said, \"A person who never made a mistake never tried anything new.\"'\n",
    "print(famous_person)"
   ]
  },
  {
   "cell_type": "code",
   "execution_count": 7,
   "metadata": {},
   "outputs": [
    {
     "name": "stdout",
     "output_type": "stream",
     "text": [
      "     \t Matthew         \n",
      "Matthew         \n",
      "     \t Matthew\n",
      "Matthew\n"
     ]
    }
   ],
   "source": [
    "#Stripping names\n",
    "\n",
    "name = '     \\t Matthew         '\n",
    "print(name)\n",
    "print(name.lstrip())\n",
    "print(name.rstrip())\n",
    "print(name.strip())\n"
   ]
  },
  {
   "cell_type": "code",
   "execution_count": 1,
   "metadata": {},
   "outputs": [
    {
     "name": "stdout",
     "output_type": "stream",
     "text": [
      "python_notes\n"
     ]
    }
   ],
   "source": [
    "#File extension\n",
    "filename = 'python_notes.txt'\n",
    "print(filename.removesuffix('.txt'))"
   ]
  }
 ],
 "metadata": {
  "kernelspec": {
   "display_name": "py311",
   "language": "python",
   "name": "python3"
  },
  "language_info": {
   "codemirror_mode": {
    "name": "ipython",
    "version": 3
   },
   "file_extension": ".py",
   "mimetype": "text/x-python",
   "name": "python",
   "nbconvert_exporter": "python",
   "pygments_lexer": "ipython3",
   "version": "3.11.3"
  }
 },
 "nbformat": 4,
 "nbformat_minor": 2
}
